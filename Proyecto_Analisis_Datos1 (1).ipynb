{
 "cells": [
  {
   "cell_type": "markdown",
   "metadata": {
    "colab_type": "text",
    "id": "QQViLbLOLgfh"
   },
   "source": [
    "# Proyecto Analisis de Datos\n",
    "### Objetivo: \n",
    "Para el proyecto de análsis de datos comprendido en la estrategia evaluativa vamos a analizar los datos contenidos en el archivo csv anexo.\n",
    "\n",
    "La primera columna del archivo representa el tiempo (t) y la segunda (x) y tercera (y) columnas son las medidas de algún experimento, ambas cantidades fueron tomadas por dos aparatos de medida.\n",
    "\n",
    "Utilizando la técnica de ajuste de una función a unos datos con chi2: \n",
    "1. Trate de encontrar una función que describa x como función de t.\n",
    "2. Trate de encontrar una función que describa y como función de t.\n",
    "3. ¿Puede determinar si x y y están correlacionados? en otras palabras, ¿puede encontrar si x se puede expresar como función de y?\n",
    "\n",
    "Recuerde justificar todas sus respuestas. El código desarrollado debe realizarse en Python.\n",
    "\n",
    "### Elaborado por:\n",
    "#### Lucas Quiceno.\n",
    "#### Andres Betancur."
   ]
  },
  {
   "cell_type": "code",
   "execution_count": 1,
   "metadata": {
    "colab": {},
    "colab_type": "code",
    "id": "CCqlR3QkLgfj"
   },
   "outputs": [
    {
     "name": "stderr",
     "output_type": "stream",
     "text": [
      "/home/lucas/anaconda3/lib/python3.7/site-packages/IPython/html.py:14: ShimWarning: The `IPython.html` package has been deprecated since IPython 4.0. You should import from `notebook` instead. `IPython.html.widgets` has moved to `ipywidgets`.\n",
      "  \"`IPython.html.widgets` has moved to `ipywidgets`.\", ShimWarning)\n"
     ]
    }
   ],
   "source": [
    "# Imoortando las librerias necesarias\n",
    "%matplotlib inline\n",
    "#import pandas as pd\n",
    "import matplotlib.pyplot as plt\n",
    "import numpy as np\n",
    "#from scipy.optimize import curve_fit\n",
    "from IPython.html.widgets import interact\n"
   ]
  },
  {
   "cell_type": "markdown",
   "metadata": {
    "colab_type": "text",
    "id": "tZXOxQGILgfx"
   },
   "source": [
    "Se elabora un primer codigo con el fin de familiarizarse con las graficas interactivas, para esto se graficará la funcion\n",
    "\n",
    "$y=Asin(\\omega x)$\n",
    "\n",
    "y con los parametros interactivos se modificaran los parametros de amplitud y frecuencia."
   ]
  },
  {
   "cell_type": "code",
   "execution_count": 2,
   "metadata": {
    "colab": {},
    "colab_type": "code",
    "id": "nfV7CNTmLgfy"
   },
   "outputs": [
    {
     "data": {
      "application/vnd.jupyter.widget-view+json": {
       "model_id": "a2f3b2273aad4b9c844d5bcbaae0822f",
       "version_major": 2,
       "version_minor": 0
      },
      "text/plain": [
       "interactive(children=(FloatSlider(value=34.55751918948772, description='freq', max=62.83185307179586, min=6.28…"
      ]
     },
     "metadata": {},
     "output_type": "display_data"
    },
    {
     "data": {
      "text/plain": [
       "<function __main__.func(freq, amp)>"
      ]
     },
     "execution_count": 2,
     "metadata": {},
     "output_type": "execute_result"
    }
   ],
   "source": [
    "def func(freq,amp):\n",
    "    x = np.linspace(0,3,200)\n",
    "    z = amp*np.sin(freq*x)\n",
    "    \n",
    "    plt.plot(x,z,color='red')\n",
    "    plt.ylim(-5,5)\n",
    "    \n",
    "interact(func,freq=(2*np.pi,2*np.pi*10),amp=(1,10))"
   ]
  },
  {
   "cell_type": "markdown",
   "metadata": {
    "colab_type": "text",
    "id": "dDQU_KxMLggB"
   },
   "source": [
    "Una vez familiarizados con la herramienta interactiva podemos empezar a elaborar un codigo para nuestro proposito"
   ]
  },
  {
   "cell_type": "code",
   "execution_count": 3,
   "metadata": {
    "colab": {},
    "colab_type": "code",
    "id": "N1tA2z5MLggC"
   },
   "outputs": [],
   "source": [
    "# Importa los datos experimentales\n",
    "datos = np.loadtxt(\"data.csv\",delimiter=\",\")"
   ]
  },
  {
   "cell_type": "code",
   "execution_count": 7,
   "metadata": {
    "colab": {
     "base_uri": "https://localhost:8080/",
     "height": 568,
     "referenced_widgets": [
      "3021dba3f2c744d3b8ce24c6e950a37c",
      "4b98e1ec1de440caae54c422ce60b77c",
      "4616174091e04d748b4402db9dc2dade",
      "9250e6741b8f437d8489b75f8f344fee",
      "5d1a0792a1fe47788b5f56c19dc11b5b",
      "9574f109af9a4c3fa49dc6a9c03bbf01",
      "d9f5e7f5fad6420981284b8340eb5896",
      "41bb0b45edef4fbda0389a41f2c18e47",
      "b279562619f44bdfb35bfec538d80c36",
      "e71ee05aeb0447419837d542d550be7d",
      "9f9130a6fd884bc79e9584fd28fd940d",
      "c6db115cf83844b7984cd28dbbc98c14",
      "880b86d63e7245e780f20f88c75744b4",
      "769ad1ea849349bebd74958eea00c8e1",
      "60b04925f67f408197692bfff95c9cbb",
      "25297afce3c8489591dc0affdc15f7bb",
      "76e1e55b22d64d02bd8fa4b34cf144ed",
      "2a2511595d7d42438ef7b03e912edc64",
      "ecbec2edc232475aae3af58ee9443cde",
      "21e6dc47f71f4308afc79b6bd3730831",
      "e2efd7176cdb47d78fd0560d3d9a5229",
      "fc210dd57aa54aeba2b6acaf5bf89c3f",
      "cdecf463fce746f8b678f6f7c078e22d",
      "be3022068e8841749a04cf33fe51e796",
      "2c60e6dab9cd49a49b0bc0db4ea7b933",
      "188b4bd68b7a4a0b82cbea2202cdfbca",
      "9091e91ecf1a4a4c84fc7f1299479e1f",
      "b584be7a121e42bebf3dee3eb888137c"
     ]
    },
    "colab_type": "code",
    "id": "QfFlUV1_LggJ",
    "outputId": "fd9eafe5-aaad-4fb7-8da8-de959e340924"
   },
   "outputs": [
    {
     "data": {
      "application/vnd.jupyter.widget-view+json": {
       "model_id": "d29c589b0f3e4e889f8c688d1b84f139",
       "version_major": 2,
       "version_minor": 0
      },
      "text/plain": [
       "interactive(children=(FloatSlider(value=47.0, description='A', min=-5.0, step=0.05), FloatSlider(value=50.0, d…"
      ]
     },
     "metadata": {},
     "output_type": "display_data"
    },
    {
     "data": {
      "text/plain": [
       "<function __main__.modelo(A, B, C, D, E, F, G, H)>"
      ]
     },
     "execution_count": 7,
     "metadata": {},
     "output_type": "execute_result"
    }
   ],
   "source": [
    "#se crean listas vacias y se llenan con los datos importados\n",
    "\n",
    "t=[]\n",
    "x=[]\n",
    "y=[]\n",
    "\n",
    "# se llenas las lista\n",
    "\n",
    "for i in range(len(datos)):\n",
    "    t.append(datos[i][0])\n",
    "    x.append(datos[i][1])\n",
    "    y.append(datos[i][2])\n",
    "    \n",
    "    \n",
    "# Se propone un modelo para ajustar a los datos    \n",
    "def modelo(A,B,C,D,E,F,G,H):\n",
    "    X = np.linspace(0,5,2000)\n",
    "    M = A*np.sin(B*X+C)*np.cos(D*X+E)+F*np.sin(G*X+H)\n",
    "    \n",
    "  #  plt.figure(figsize=(10,6))\n",
    "    plt.grid()\n",
    "    plt.title(\"y en función de t\")\n",
    "    plt.ylabel(\"Y\")\n",
    "    plt.xlabel(\"T\")\n",
    "    plt.plot(t,x, c='b')\n",
    "    plt.plot(X,M,color='red')\n",
    "    #plt.ylim(-15,15)\n",
    "    #plt.legend()\n",
    "    plt.show()\n",
    "\n",
    "# Con ayuda de la libreria interact creamos un rango considerable en el cual se podra variar los parametros \n",
    "# de manera que obtengamos una primera aproximación a los datos experimentales\n",
    "interact(modelo,A=(-5,100,0.05),B=(0,100,0.05),C=(0,100,0.05),D=(0,100,0.05),E=(0,100,0.05),F=(0,100,0.05),G=(0,100,0.05),H=(0,100,0.05))\n"
   ]
  },
  {
   "cell_type": "code",
   "execution_count": 0,
   "metadata": {
    "colab": {
     "base_uri": "https://localhost:8080/",
     "height": 902
    },
    "colab_type": "code",
    "id": "qpePwddhltHz",
    "outputId": "001fad12-bb74-4712-92a7-b4c99de4056d"
   },
   "outputs": [
    {
     "name": "stderr",
     "output_type": "stream",
     "text": [
      "No handles with labels found to put in legend.\n"
     ]
    },
    {
     "data": {
      "image/png": "[encoded data removed]",
      "text/plain": [
       "<Figure size 432x288 with 1 Axes>"
      ]
     },
     "metadata": {
      "needs_background": "light",
      "tags": []
     },
     "output_type": "display_data"
    },
    {
     "name": "stderr",
     "output_type": "stream",
     "text": [
      "No handles with labels found to put in legend.\n"
     ]
    },
    {
     "data": {
      "image/png": "[encoded data removed]",
      "text/plain": [
       "<Figure size 432x288 with 1 Axes>"
      ]
     },
     "metadata": {
      "needs_background": "light",
      "tags": []
     },
     "output_type": "display_data"
    },
    {
     "name": "stderr",
     "output_type": "stream",
     "text": [
      "No handles with labels found to put in legend.\n"
     ]
    },
    {
     "data": {
      "image/png": "[encoded data removed]",
      "text/plain": [
       "<Figure size 432x288 with 1 Axes>"
      ]
     },
     "metadata": {
      "needs_background": "light",
      "tags": []
     },
     "output_type": "display_data"
    }
   ],
   "source": [
    "#primero se gráfican los datos para conocer la información con la que esta trabajando \n",
    "#grafica de x    \n",
    "\n",
    "plt.figure()\n",
    "plt.title(\"Medida x en función de t\")\n",
    "plt.grid()\n",
    "plt.ylabel(\"Medida x\")\n",
    "plt.xlabel(\"Medida de tiempo t\")\n",
    "plt.plot(t,x, c='r')\n",
    "plt.legend()\n",
    "plt.show()\n",
    "\n",
    "#grafica de y\n",
    "\n",
    "plt.figure()\n",
    "plt.title(\"Medida y en función de t\")\n",
    "plt.grid()\n",
    "plt.ylabel(\"Medida y\")\n",
    "plt.xlabel(\"Medida del tiempo t\")\n",
    "plt.plot(t,y, c='r')\n",
    "plt.legend()\n",
    "plt.show()\n",
    "\n",
    "# grafica x contra y\n",
    "\n",
    "plt.figure()\n",
    "plt.title(\"Medida de y en función de medida de x\")\n",
    "plt.grid()\n",
    "plt.ylabel(\"Medida de y\")\n",
    "plt.xlabel(\"Medida de x\")\n",
    "plt.plot(x,y, c='r')\n",
    "plt.legend()\n",
    "plt.show()"
   ]
  },
  {
   "cell_type": "markdown",
   "metadata": {
    "colab_type": "text",
    "id": "_9qdFqg7LggR"
   },
   "source": [
    "Variando los distintos parametros se encuentra que los posibles parametros que se ajustan a la funcion modelo son\n",
    "$A=2.65$\n",
    "$B=23.45$\n",
    "$C=77.10$\n",
    "$D=26.45$\n",
    "$E=9.70$\n",
    "$F=0.85$\n",
    "$G=49.55$\n",
    "$H=6.15$\n",
    "\n",
    "Entonces iniciamos la elaboracion de un codigo donde usaremos estos valores como puntos de referencia y se creará in intervalo que los incluya para elegir luego el conjunto de puntos que mejor se ajuste a los datos"
   ]
  },
  {
   "cell_type": "code",
   "execution_count": 0,
   "metadata": {
    "colab": {
     "base_uri": "https://localhost:8080/",
     "height": 754
    },
    "colab_type": "code",
    "id": "SzdAjZSGLggS",
    "outputId": "33546a33-e1cd-4302-e374-1ff4d44c1bde"
   },
   "outputs": [
    {
     "name": "stdout",
     "output_type": "stream",
     "text": [
      "[[2.64000000e+00 2.34400000e+01 7.70900000e+01 ... 4.95400000e+01\n",
      "  6.14000000e+00 1.20019456e+04]\n",
      " [2.64000000e+00 2.34400000e+01 7.70900000e+01 ... 4.95400000e+01\n",
      "  6.16000000e+00 1.27825745e+04]\n",
      " [2.64000000e+00 2.34400000e+01 7.70900000e+01 ... 4.95600000e+01\n",
      "  6.14000000e+00 1.96139963e+04]\n",
      " ...\n",
      " [2.66000000e+00 2.34600000e+01 7.71100000e+01 ... 4.95400000e+01\n",
      "  6.16000000e+00 1.38122611e+04]\n",
      " [2.66000000e+00 2.34600000e+01 7.71100000e+01 ... 4.95600000e+01\n",
      "  6.14000000e+00 3.57309594e+04]\n",
      " [2.66000000e+00 2.34600000e+01 7.71100000e+01 ... 4.95600000e+01\n",
      "  6.16000000e+00 1.86778534e+04]]\n",
      "2.66\n",
      "10000\n",
      "10000\n"
     ]
    },
    {
     "data": {
      "image/png": "[encoded data removed]",
      "text/plain": [
       "<Figure size 432x288 with 1 Axes>"
      ]
     },
     "metadata": {
      "needs_background": "light",
      "tags": []
     },
     "output_type": "display_data"
    },
    {
     "name": "stdout",
     "output_type": "stream",
     "text": [
      "Los valores optimos son:\n",
      "A = 2.66\n",
      "B = 23.46\n",
      "C = 77.09\n",
      "D = 26.44\n",
      "E = 9.69\n",
      "F = 0.84\n",
      "G = 49.56\n",
      "H = 6.14\n",
      "Chi = 10063.334818857831\n",
      "El valor que da información sobre el ajuste es =  1.0063334818857832\n"
     ]
    }
   ],
   "source": [
    "u = 2 #variaciones en cada parámetro\n",
    "N = 10000\n",
    "xteo = np.zeros(N)\n",
    "A = np.linspace(2.64,2.66,u) #variaciones en A\n",
    "B = np.linspace(23.44,23.46,u) #variaciones en B\n",
    "C = np.linspace(77.09,77.11,u) #variaciones en C\n",
    "D = np.linspace(26.44,26.46,u) #variaciones en D\n",
    "E = np.linspace(9.69,9.71,u) #variaciones en E\n",
    "F = np.linspace(0.84,0.86,u) #variaciones en F\n",
    "G = np.linspace(49.54,49.56,u) #variaciones en G\n",
    "H = np.linspace(6.14,6.16,u) #variaciones en H\n",
    "CHI = np.zeros((u**8,9),float) #para los cinco parametros y el valor de chi²\n",
    "MIN=[] #para el minimo chi cuadrado\n",
    "\n",
    "def f(X,A,B,C,D,E,F,G,H):#modelo téorico\n",
    "    return A*np.sin(B*X+C)*np.cos(D*X+E)+F*np.sin(G*X+H)#Funcion a ajustar\n",
    "\n",
    "c = 0 #contador\n",
    "for j in range(u): #varia A\n",
    "    for k in range(u): #varia B\n",
    "        for l in range(u): #varia C\n",
    "            for m in range(u): #varia D\n",
    "                for n in range(u): #varia E\n",
    "                    for o in range(u): #varia F\n",
    "                        for p in range(u): #varia G\n",
    "                            for q in range(u): #varia H\n",
    "                                chi = 0.0 \n",
    "                                for i in range(N): #Ciclo para calcular Chi²\n",
    "                                    s = f(t[i],A[j],B[k],C[l],D[m],E[n],F[o],G[p],H[q]) #modelo \n",
    "                                    chi += pow((y[i]-s),2)/abs(s) #comparacion entre el modelo y los J experimental\n",
    "                                CHI[c,0] = A[j] #guarda el valor de A\n",
    "                                CHI[c,1] = B[k] #guarda el valor de B\n",
    "                                CHI[c,2] = C[l] #guarda el valor de C\n",
    "                                CHI[c,3] = D[m] #guarda el valor de D\n",
    "                                CHI[c,4] = E[n] #guarda el valor de E\n",
    "                                CHI[c,5] = F[o] #guarda el valor de F\n",
    "                                CHI[c,6] = G[p] #guarda el valor de G\n",
    "                                CHI[c,7] = H[q] #guarda el valor de H\n",
    "                    \n",
    "                                CHI[c,8] = chi #guarda el valor de chi\n",
    "                                MIN.append(chi) #guarda el valor de chi para posteriormente elegir el minimo\n",
    "                                c+=1\n",
    "                                \n",
    "print(CHI)\n",
    "for i in range(u**8):\n",
    "    if (CHI[i,8] == min(MIN)): #recorre el arreglo de los chi, y cuando i corresponde al optimo identifica los parametros\n",
    "        #A,B,C,D valores óptimos\n",
    "        A1 = CHI[i,0] #A\n",
    "        B1 = CHI[i,1] #B\n",
    "        C1 = CHI[i,2] #C\n",
    "        D1 = CHI[i,3] #D\n",
    "        E1 = CHI[i,4] #E\n",
    "        F1 = CHI[i,5] #F\n",
    "        G1 = CHI[i,6] #G\n",
    "        H1 = CHI[i,7] #H\n",
    "        I1 = CHI[i,8] #Chi\n",
    "        print(CHI[i,0])\n",
    "\n",
    "        \n",
    "for i in range(N):\n",
    "    xteo[i]=(f(t[i],A1,B1,C1,D1,E1,F1,G1,H1)) #para la grafica, el modelo con los parametros optimos\n",
    "    \n",
    "print(len(t))\n",
    "print(len(xteo))\n",
    "\n",
    "#detalles de la grafica\n",
    "plt.figure()\n",
    "plt.plot(t,y,color='r',label=\"Puntos experimentales\")\n",
    "plt.plot(t,xteo,color='b',label=\"Ajuste\")\n",
    "plt.legend()\n",
    "plt.title(\"Gráfica 2. Ajuste de unos datos experimentales\")\n",
    "plt.xlabel(\"Medida temporal t\")\n",
    "plt.ylabel(\"Medida y\")\n",
    "plt.grid()\n",
    "plt.show()\n",
    "\n",
    "print(\"Los valores optimos son:\")\n",
    "print(\"A =\",A1)\n",
    "print(\"B =\",B1)\n",
    "print(\"C =\",C1)\n",
    "print(\"D =\",D1)\n",
    "print(\"E =\",E1)\n",
    "print(\"F =\",F1)\n",
    "print(\"G =\",G1)\n",
    "print(\"H =\",H1)\n",
    "print(\"Chi =\",I1)\n",
    "\n",
    "\n",
    "Resultado=I1/len(y) #hallar mejor valor\n",
    "print(\"El valor que da información sobre el ajuste es = \", Resultado)"
   ]
  },
  {
   "cell_type": "code",
   "execution_count": 0,
   "metadata": {
    "colab": {
     "base_uri": "https://localhost:8080/",
     "height": 754
    },
    "colab_type": "code",
    "id": "oLpmNf89UP_l",
    "outputId": "a18325a3-c253-40ab-c970-d5224907b4d5"
   },
   "outputs": [
    {
     "name": "stdout",
     "output_type": "stream",
     "text": [
      "[[2.44000000e+00 2.32400000e+01 2.27900000e+01 ... 4.99400000e+01\n",
      "  3.97400000e+01 2.00297826e+04]\n",
      " [2.44000000e+00 2.32400000e+01 2.27900000e+01 ... 4.99400000e+01\n",
      "  3.97600000e+01 2.06294357e+04]\n",
      " [2.44000000e+00 2.32400000e+01 2.27900000e+01 ... 4.99600000e+01\n",
      "  3.97400000e+01 2.77013395e+04]\n",
      " ...\n",
      " [2.46000000e+00 2.32600000e+01 2.28100000e+01 ... 4.99400000e+01\n",
      "  3.97600000e+01 2.14070145e+04]\n",
      " [2.46000000e+00 2.32600000e+01 2.28100000e+01 ... 4.99600000e+01\n",
      "  3.97400000e+01 2.11000271e+04]\n",
      " [2.46000000e+00 2.32600000e+01 2.28100000e+01 ... 4.99600000e+01\n",
      "  3.97600000e+01 7.61032510e+04]]\n",
      "2.46\n",
      "10000\n",
      "10000\n"
     ]
    },
    {
     "data": {
      "image/png": "[encoded data removed]",
      "text/plain": [
       "<Figure size 432x288 with 1 Axes>"
      ]
     },
     "metadata": {
      "needs_background": "light",
      "tags": []
     },
     "output_type": "display_data"
    },
    {
     "name": "stdout",
     "output_type": "stream",
     "text": [
      "Los valores optimos son:\n",
      "A = 2.46\n",
      "B = 23.26\n",
      "C = 22.79\n",
      "D = 26.34\n",
      "E = 17.94\n",
      "F = 0.94\n",
      "G = 49.94\n",
      "H = 39.76\n",
      "Chi = 18059.104800800957\n",
      "El valor que da información sobre el ajuste es =  1.8059104800800956\n"
     ]
    }
   ],
   "source": [
    "u = 2 #variaciones en cada parámetro\n",
    "N = 10000\n",
    "yteo = np.zeros(N) #ajute para x\n",
    "A = np.linspace(2.44,2.46,u) #variaciones en A\n",
    "B = np.linspace(23.24,23.26,u) #variaciones en B\n",
    "C = np.linspace(22.79,22.81,u) #variaciones en C\n",
    "D = np.linspace(26.34,26.36,u) #variaciones en D\n",
    "E = np.linspace(17.94,17.96,u) #variaciones en E\n",
    "F = np.linspace(0.94,0.96,u) #variaciones en F\n",
    "G = np.linspace(49.94,49.96,u) #variaciones en G\n",
    "H = np.linspace(39.74,39.76,u) #variaciones en H\n",
    "CHI = np.zeros((u**8,9),float) #para los cinco parametros y el valor de chi²\n",
    "MIN=[] #para el minimo chi cuadrado\n",
    "\n",
    "\n",
    "def f(X,A,B,C,D,E,F,G,H):#modelo téorico\n",
    "    return A*np.sin(B*X+C)*np.cos(D*X+E)+F*np.sin(G*X+H)#Funcion a ajustar\n",
    "\n",
    "\n",
    "c = 0 #contador\n",
    "for j in range(u): #varia A\n",
    "    for k in range(u): #varia B\n",
    "        for l in range(u): #varia C\n",
    "            for m in range(u): #varia D\n",
    "                for n in range(u): #varia E\n",
    "                    for o in range(u): #varia F\n",
    "                        for p in range(u): #varia G\n",
    "                            for q in range(u): #varia H\n",
    "                                chi = 0.0 \n",
    "                                for i in range(N): #Ciclo para calcular Chi²\n",
    "                                    s = f(t[i],A[j],B[k],C[l],D[m],E[n],F[o],G[p],H[q]) #modelo \n",
    "                                    chi += pow((x[i]-s),2)/abs(s) #comparacion entre el modelo y los J experimental\n",
    "                                CHI[c,0] = A[j] #guarda el valor de A\n",
    "                                CHI[c,1] = B[k] #guarda el valor de B\n",
    "                                CHI[c,2] = C[l] #guarda el valor de C\n",
    "                                CHI[c,3] = D[m] #guarda el valor de D\n",
    "                                CHI[c,4] = E[n] #guarda el valor de E\n",
    "                                CHI[c,5] = F[o] #guarda el valor de F\n",
    "                                CHI[c,6] = G[p] #guarda el valor de G\n",
    "                                CHI[c,7] = H[q] #guarda el valor de H\n",
    "                    \n",
    "                                CHI[c,8] = chi #guarda el valor de chi\n",
    "                                MIN.append(chi) #guarda el valor de chi para posteriormente elegir el minimo\n",
    "                                c+=1\n",
    "\n",
    "\n",
    "print(CHI)\n",
    "for i in range(u**8):\n",
    "    if (CHI[i,8] == min(MIN)): #recorre el arreglo de los chi, y cuando i corresponde al optimo identifica los parametros\n",
    "        #A,B,C,D valores óptimos\n",
    "        A1 = CHI[i,0] #A\n",
    "        B1 = CHI[i,1] #B\n",
    "        C1 = CHI[i,2] #C\n",
    "        D1 = CHI[i,3] #D\n",
    "        E1 = CHI[i,4] #E\n",
    "        F1 = CHI[i,5] #F\n",
    "        G1 = CHI[i,6] #G\n",
    "        H1 = CHI[i,7] #H\n",
    "        I1 = CHI[i,8] #Chi\n",
    "        print(CHI[i,0])\n",
    "\n",
    "\n",
    "for i in range(N):\n",
    "    yteo[i]=(f(t[i],A1,B1,C1,D1,E1,F1,G1,H1)) #para la grafica, el modelo con los parametros optimos\n",
    "    \n",
    "print(len(t))\n",
    "print(len(yteo))\n",
    "\n",
    "#detalles de la grafica\n",
    "plt.figure()\n",
    "plt.plot(t,x,color='r',label=\"Puntos experimentales\")\n",
    "plt.plot(t,yteo,color='b',label=\"Ajuste\")\n",
    "plt.legend()\n",
    "plt.title(\"Grafica 3. Ajuste de unos datos experimentales\")\n",
    "plt.xlabel(\"Medida temporal t\")\n",
    "plt.ylabel(\"Medida x\")\n",
    "plt.grid()\n",
    "plt.show()\n",
    "\n",
    "print(\"Los valores optimos son:\")\n",
    "print(\"A =\",A1)\n",
    "print(\"B =\",B1)\n",
    "print(\"C =\",C1)\n",
    "print(\"D =\",D1)\n",
    "print(\"E =\",E1)\n",
    "print(\"F =\",F1)\n",
    "print(\"G =\",G1)\n",
    "print(\"H =\",H1)\n",
    "print(\"Chi =\",I1)\n",
    "\n",
    "\n",
    "Resultado1=I1/len(x)\n",
    "print(\"El valor que da información sobre el ajuste es = \", Resultado1)"
   ]
  },
  {
   "cell_type": "markdown",
   "metadata": {
    "colab": {
     "base_uri": "https://localhost:8080/",
     "height": 34
    },
    "colab_type": "code",
    "id": "PPhYHQkBwJKQ",
    "outputId": "6d1ab41b-9e1e-4b5e-b57e-a9cdd3490fc9"
   },
   "source": [
    "Para determinar si las cantidades $x$ y $y$ están correlacionadas hacemos uso de la correlación lineal de Pearson\n",
    "\n",
    "## $\\rho = \\frac{\\sum_{i=1}^{n} ({x_{i} - \\bar{x})(y_{i}-\\bar{y})}}{\\sqrt{\\sum_{i=1}^{n} (x_{i}-\\bar{x})^2} \\sqrt{\\sum_{i=1}^{n} (y_{i}-\\bar{y})^2}}$\n",
    "\n",
    "mediante esta ecuación obtendremos un valor para $\\rho$ entre-1 y 1\n",
    "\n",
    "## $-1 \\leq \\rho \\leq 1$\n",
    "\n",
    "si $-1 \\leq \\rho \\leq -0.5$ o $0.5 \\leq \\rho \\leq 1$ indica que hay una correlacion negativa fuerte o positiva fuerte respectivamente\n",
    "\n",
    "si $-0.5 \\leq \\rho \\leq -0.3$ o $0.3 \\leq \\rho \\leq 0.5$ indica que hay una correlacion negativa moderada o positiva fuerte respectivamente\n",
    "\n",
    "si $-0.3 \\leq \\rho \\leq -0.1$ o $0.1 \\leq \\rho \\leq 0.3$ indica que hay una correlacion negativa débil o positiva debil respectivamente\n",
    "\n",
    "si $-0.1 \\leq \\rho \\leq 0$ o $0 \\leq \\rho \\leq 0.1$ indica que no hay correlación o que es tan debil que consideramos que no se correlacionan\n",
    "\n"
   ]
  },
  {
   "cell_type": "code",
   "execution_count": 8,
   "metadata": {
    "colab": {},
    "colab_type": "code",
    "id": "rjIjktW1kFyp"
   },
   "outputs": [
    {
     "name": "stdout",
     "output_type": "stream",
     "text": [
      "El coeficiente de correlacion es:  -0.3346585500069031\n"
     ]
    }
   ],
   "source": [
    "xbar=0.0\n",
    "ybar=0.0\n",
    "for i in range(len(x)):\n",
    "    xbar=xbar+x[i] # Sumamos los datos  en la lista x\n",
    "    ybar=ybar+y[i] # Sumamos los datos en la lista y\n",
    "    \n",
    "xpro=xbar/len(x) # Calculamos el promedio de los datos en x\n",
    "ypro=ybar/len(y) # Calculamos el promedio de los datos en y\n",
    "\n",
    "numerador=0.0\n",
    "denominador1=0.0\n",
    "denominador2=0.0\n",
    "for i in range(len(x)):\n",
    "    numerador= numerador+(x[i]-xpro)*(y[i]-ypro) # Calculamos el numerado\n",
    "    denominador1=denominador1+(x[i]-xpro)**2 # Calculamos la primera sumatoria en el denominador\n",
    "    denominador2=denominador2+(y[i]-ypro)**2 # # Calculamos la segunda sumatoria en el denominador\n",
    "\n",
    "Ro=numerador/(pow(denominador1,0.5)*pow(denominador2,0.5)) # Encontramos el valor de Rho\n",
    "print(\"El coeficiente de correlacion es: \", Ro)"
   ]
  },
  {
   "cell_type": "markdown",
   "metadata": {},
   "source": [
    "El cual es un indicador de que hay una correlación debil entre las cantidades $x$ y $y$"
   ]
  },
  {
   "cell_type": "code",
   "execution_count": null,
   "metadata": {},
   "outputs": [],
   "source": []
  }
 ],
 "metadata": {
  "colab": {
   "name": "Proyecto_Analisis_Datos1.ipynb",
   "provenance": []
  },
  "kernelspec": {
   "display_name": "Python 3",
   "language": "python",
   "name": "python3"
  },
  "language_info": {
   "codemirror_mode": {
    "name": "ipython",
    "version": 3
   },
   "file_extension": ".py",
   "mimetype": "text/x-python",
   "name": "python",
   "nbconvert_exporter": "python",
   "pygments_lexer": "ipython3",
   "version": "3.7.4"
  },
  "widgets": {
   "application/vnd.jupyter.widget-state+json": {
    "188b4bd68b7a4a0b82cbea2202cdfbca": {
     "model_module": "@jupyter-widgets/controls",
     "model_name": "SliderStyleModel",
     "state": {
      "_model_module": "@jupyter-widgets/controls",
      "_model_module_version": "1.5.0",
      "_model_name": "SliderStyleModel",
      "_view_count": null,
      "_view_module": "@jupyter-widgets/base",
      "_view_module_version": "1.2.0",
      "_view_name": "StyleView",
      "description_width": "",
      "handle_color": null
     }
    },
    "21e6dc47f71f4308afc79b6bd3730831": {
     "model_module": "@jupyter-widgets/controls",
     "model_name": "SliderStyleModel",
     "state": {
      "_model_module": "@jupyter-widgets/controls",
      "_model_module_version": "1.5.0",
      "_model_name": "SliderStyleModel",
      "_view_count": null,
      "_view_module": "@jupyter-widgets/base",
      "_view_module_version": "1.2.0",
      "_view_name": "StyleView",
      "description_width": "",
      "handle_color": null
     }
    },
    "25297afce3c8489591dc0affdc15f7bb": {
     "model_module": "@jupyter-widgets/controls",
     "model_name": "SliderStyleModel",
     "state": {
      "_model_module": "@jupyter-widgets/controls",
      "_model_module_version": "1.5.0",
      "_model_name": "SliderStyleModel",
      "_view_count": null,
      "_view_module": "@jupyter-widgets/base",
      "_view_module_version": "1.2.0",
      "_view_name": "StyleView",
      "description_width": "",
      "handle_color": null
     }
    },
    "2a2511595d7d42438ef7b03e912edc64": {
     "model_module": "@jupyter-widgets/controls",
     "model_name": "SliderStyleModel",
     "state": {
      "_model_module": "@jupyter-widgets/controls",
      "_model_module_version": "1.5.0",
      "_model_name": "SliderStyleModel",
      "_view_count": null,
      "_view_module": "@jupyter-widgets/base",
      "_view_module_version": "1.2.0",
      "_view_name": "StyleView",
      "description_width": "",
      "handle_color": null
     }
    },
    "2c60e6dab9cd49a49b0bc0db4ea7b933": {
     "model_module": "@jupyter-widgets/base",
     "model_name": "LayoutModel",
     "state": {
      "_model_module": "@jupyter-widgets/base",
      "_model_module_version": "1.2.0",
      "_model_name": "LayoutModel",
      "_view_count": null,
      "_view_module": "@jupyter-widgets/base",
      "_view_module_version": "1.2.0",
      "_view_name": "LayoutView",
      "align_content": null,
      "align_items": null,
      "align_self": null,
      "border": null,
      "bottom": null,
      "display": null,
      "flex": null,
      "flex_flow": null,
      "grid_area": null,
      "grid_auto_columns": null,
      "grid_auto_flow": null,
      "grid_auto_rows": null,
      "grid_column": null,
      "grid_gap": null,
      "grid_row": null,
      "grid_template_areas": null,
      "grid_template_columns": null,
      "grid_template_rows": null,
      "height": null,
      "justify_content": null,
      "justify_items": null,
      "left": null,
      "margin": null,
      "max_height": null,
      "max_width": null,
      "min_height": null,
      "min_width": null,
      "object_fit": null,
      "object_position": null,
      "order": null,
      "overflow": null,
      "overflow_x": null,
      "overflow_y": null,
      "padding": null,
      "right": null,
      "top": null,
      "visibility": null,
      "width": null
     }
    },
    "3021dba3f2c744d3b8ce24c6e950a37c": {
     "model_module": "@jupyter-widgets/controls",
     "model_name": "VBoxModel",
     "state": {
      "_dom_classes": [
       "widget-interact"
      ],
      "_model_module": "@jupyter-widgets/controls",
      "_model_module_version": "1.5.0",
      "_model_name": "VBoxModel",
      "_view_count": null,
      "_view_module": "@jupyter-widgets/controls",
      "_view_module_version": "1.5.0",
      "_view_name": "VBoxView",
      "box_style": "",
      "children": [
       "IPY_MODEL_4616174091e04d748b4402db9dc2dade",
       "IPY_MODEL_9250e6741b8f437d8489b75f8f344fee",
       "IPY_MODEL_5d1a0792a1fe47788b5f56c19dc11b5b",
       "IPY_MODEL_9574f109af9a4c3fa49dc6a9c03bbf01",
       "IPY_MODEL_d9f5e7f5fad6420981284b8340eb5896",
       "IPY_MODEL_41bb0b45edef4fbda0389a41f2c18e47",
       "IPY_MODEL_b279562619f44bdfb35bfec538d80c36",
       "IPY_MODEL_e71ee05aeb0447419837d542d550be7d",
       "IPY_MODEL_9f9130a6fd884bc79e9584fd28fd940d"
      ],
      "layout": "IPY_MODEL_4b98e1ec1de440caae54c422ce60b77c"
     }
    },
    "41bb0b45edef4fbda0389a41f2c18e47": {
     "model_module": "@jupyter-widgets/controls",
     "model_name": "FloatSliderModel",
     "state": {
      "_dom_classes": [],
      "_model_module": "@jupyter-widgets/controls",
      "_model_module_version": "1.5.0",
      "_model_name": "FloatSliderModel",
      "_view_count": null,
      "_view_module": "@jupyter-widgets/controls",
      "_view_module_version": "1.5.0",
      "_view_name": "FloatSliderView",
      "continuous_update": true,
      "description": "F",
      "description_tooltip": null,
      "disabled": false,
      "layout": "IPY_MODEL_cdecf463fce746f8b678f6f7c078e22d",
      "max": 100,
      "min": 0,
      "orientation": "horizontal",
      "readout": true,
      "readout_format": ".2f",
      "step": 0.05,
      "style": "IPY_MODEL_fc210dd57aa54aeba2b6acaf5bf89c3f",
      "value": 50
     }
    },
    "4616174091e04d748b4402db9dc2dade": {
     "model_module": "@jupyter-widgets/controls",
     "model_name": "FloatSliderModel",
     "state": {
      "_dom_classes": [],
      "_model_module": "@jupyter-widgets/controls",
      "_model_module_version": "1.5.0",
      "_model_name": "FloatSliderModel",
      "_view_count": null,
      "_view_module": "@jupyter-widgets/controls",
      "_view_module_version": "1.5.0",
      "_view_name": "FloatSliderView",
      "continuous_update": true,
      "description": "A",
      "description_tooltip": null,
      "disabled": false,
      "layout": "IPY_MODEL_880b86d63e7245e780f20f88c75744b4",
      "max": 100,
      "min": -5,
      "orientation": "horizontal",
      "readout": true,
      "readout_format": ".2f",
      "step": 0.05,
      "style": "IPY_MODEL_c6db115cf83844b7984cd28dbbc98c14",
      "value": 47
     }
    },
    "4b98e1ec1de440caae54c422ce60b77c": {
     "model_module": "@jupyter-widgets/base",
     "model_name": "LayoutModel",
     "state": {
      "_model_module": "@jupyter-widgets/base",
      "_model_module_version": "1.2.0",
      "_model_name": "LayoutModel",
      "_view_count": null,
      "_view_module": "@jupyter-widgets/base",
      "_view_module_version": "1.2.0",
      "_view_name": "LayoutView",
      "align_content": null,
      "align_items": null,
      "align_self": null,
      "border": null,
      "bottom": null,
      "display": null,
      "flex": null,
      "flex_flow": null,
      "grid_area": null,
      "grid_auto_columns": null,
      "grid_auto_flow": null,
      "grid_auto_rows": null,
      "grid_column": null,
      "grid_gap": null,
      "grid_row": null,
      "grid_template_areas": null,
      "grid_template_columns": null,
      "grid_template_rows": null,
      "height": null,
      "justify_content": null,
      "justify_items": null,
      "left": null,
      "margin": null,
      "max_height": null,
      "max_width": null,
      "min_height": null,
      "min_width": null,
      "object_fit": null,
      "object_position": null,
      "order": null,
      "overflow": null,
      "overflow_x": null,
      "overflow_y": null,
      "padding": null,
      "right": null,
      "top": null,
      "visibility": null,
      "width": null
     }
    },
    "5d1a0792a1fe47788b5f56c19dc11b5b": {
     "model_module": "@jupyter-widgets/controls",
     "model_name": "FloatSliderModel",
     "state": {
      "_dom_classes": [],
      "_model_module": "@jupyter-widgets/controls",
      "_model_module_version": "1.5.0",
      "_model_name": "FloatSliderModel",
      "_view_count": null,
      "_view_module": "@jupyter-widgets/controls",
      "_view_module_version": "1.5.0",
      "_view_name": "FloatSliderView",
      "continuous_update": true,
      "description": "C",
      "description_tooltip": null,
      "disabled": false,
      "layout": "IPY_MODEL_76e1e55b22d64d02bd8fa4b34cf144ed",
      "max": 100,
      "min": 0,
      "orientation": "horizontal",
      "readout": true,
      "readout_format": ".2f",
      "step": 0.05,
      "style": "IPY_MODEL_25297afce3c8489591dc0affdc15f7bb",
      "value": 50
     }
    },
    "60b04925f67f408197692bfff95c9cbb": {
     "model_module": "@jupyter-widgets/base",
     "model_name": "LayoutModel",
     "state": {
      "_model_module": "@jupyter-widgets/base",
      "_model_module_version": "1.2.0",
      "_model_name": "LayoutModel",
      "_view_count": null,
      "_view_module": "@jupyter-widgets/base",
      "_view_module_version": "1.2.0",
      "_view_name": "LayoutView",
      "align_content": null,
      "align_items": null,
      "align_self": null,
      "border": null,
      "bottom": null,
      "display": null,
      "flex": null,
      "flex_flow": null,
      "grid_area": null,
      "grid_auto_columns": null,
      "grid_auto_flow": null,
      "grid_auto_rows": null,
      "grid_column": null,
      "grid_gap": null,
      "grid_row": null,
      "grid_template_areas": null,
      "grid_template_columns": null,
      "grid_template_rows": null,
      "height": null,
      "justify_content": null,
      "justify_items": null,
      "left": null,
      "margin": null,
      "max_height": null,
      "max_width": null,
      "min_height": null,
      "min_width": null,
      "object_fit": null,
      "object_position": null,
      "order": null,
      "overflow": null,
      "overflow_x": null,
      "overflow_y": null,
      "padding": null,
      "right": null,
      "top": null,
      "visibility": null,
      "width": null
     }
    },
    "769ad1ea849349bebd74958eea00c8e1": {
     "model_module": "@jupyter-widgets/controls",
     "model_name": "SliderStyleModel",
     "state": {
      "_model_module": "@jupyter-widgets/controls",
      "_model_module_version": "1.5.0",
      "_model_name": "SliderStyleModel",
      "_view_count": null,
      "_view_module": "@jupyter-widgets/base",
      "_view_module_version": "1.2.0",
      "_view_name": "StyleView",
      "description_width": "",
      "handle_color": null
     }
    },
    "76e1e55b22d64d02bd8fa4b34cf144ed": {
     "model_module": "@jupyter-widgets/base",
     "model_name": "LayoutModel",
     "state": {
      "_model_module": "@jupyter-widgets/base",
      "_model_module_version": "1.2.0",
      "_model_name": "LayoutModel",
      "_view_count": null,
      "_view_module": "@jupyter-widgets/base",
      "_view_module_version": "1.2.0",
      "_view_name": "LayoutView",
      "align_content": null,
      "align_items": null,
      "align_self": null,
      "border": null,
      "bottom": null,
      "display": null,
      "flex": null,
      "flex_flow": null,
      "grid_area": null,
      "grid_auto_columns": null,
      "grid_auto_flow": null,
      "grid_auto_rows": null,
      "grid_column": null,
      "grid_gap": null,
      "grid_row": null,
      "grid_template_areas": null,
      "grid_template_columns": null,
      "grid_template_rows": null,
      "height": null,
      "justify_content": null,
      "justify_items": null,
      "left": null,
      "margin": null,
      "max_height": null,
      "max_width": null,
      "min_height": null,
      "min_width": null,
      "object_fit": null,
      "object_position": null,
      "order": null,
      "overflow": null,
      "overflow_x": null,
      "overflow_y": null,
      "padding": null,
      "right": null,
      "top": null,
      "visibility": null,
      "width": null
     }
    },
    "880b86d63e7245e780f20f88c75744b4": {
     "model_module": "@jupyter-widgets/base",
     "model_name": "LayoutModel",
     "state": {
      "_model_module": "@jupyter-widgets/base",
      "_model_module_version": "1.2.0",
      "_model_name": "LayoutModel",
      "_view_count": null,
      "_view_module": "@jupyter-widgets/base",
      "_view_module_version": "1.2.0",
      "_view_name": "LayoutView",
      "align_content": null,
      "align_items": null,
      "align_self": null,
      "border": null,
      "bottom": null,
      "display": null,
      "flex": null,
      "flex_flow": null,
      "grid_area": null,
      "grid_auto_columns": null,
      "grid_auto_flow": null,
      "grid_auto_rows": null,
      "grid_column": null,
      "grid_gap": null,
      "grid_row": null,
      "grid_template_areas": null,
      "grid_template_columns": null,
      "grid_template_rows": null,
      "height": null,
      "justify_content": null,
      "justify_items": null,
      "left": null,
      "margin": null,
      "max_height": null,
      "max_width": null,
      "min_height": null,
      "min_width": null,
      "object_fit": null,
      "object_position": null,
      "order": null,
      "overflow": null,
      "overflow_x": null,
      "overflow_y": null,
      "padding": null,
      "right": null,
      "top": null,
      "visibility": null,
      "width": null
     }
    },
    "9091e91ecf1a4a4c84fc7f1299479e1f": {
     "model_module": "@jupyter-widgets/base",
     "model_name": "LayoutModel",
     "state": {
      "_model_module": "@jupyter-widgets/base",
      "_model_module_version": "1.2.0",
      "_model_name": "LayoutModel",
      "_view_count": null,
      "_view_module": "@jupyter-widgets/base",
      "_view_module_version": "1.2.0",
      "_view_name": "LayoutView",
      "align_content": null,
      "align_items": null,
      "align_self": null,
      "border": null,
      "bottom": null,
      "display": null,
      "flex": null,
      "flex_flow": null,
      "grid_area": null,
      "grid_auto_columns": null,
      "grid_auto_flow": null,
      "grid_auto_rows": null,
      "grid_column": null,
      "grid_gap": null,
      "grid_row": null,
      "grid_template_areas": null,
      "grid_template_columns": null,
      "grid_template_rows": null,
      "height": null,
      "justify_content": null,
      "justify_items": null,
      "left": null,
      "margin": null,
      "max_height": null,
      "max_width": null,
      "min_height": null,
      "min_width": null,
      "object_fit": null,
      "object_position": null,
      "order": null,
      "overflow": null,
      "overflow_x": null,
      "overflow_y": null,
      "padding": null,
      "right": null,
      "top": null,
      "visibility": null,
      "width": null
     }
    },
    "9250e6741b8f437d8489b75f8f344fee": {
     "model_module": "@jupyter-widgets/controls",
     "model_name": "FloatSliderModel",
     "state": {
      "_dom_classes": [],
      "_model_module": "@jupyter-widgets/controls",
      "_model_module_version": "1.5.0",
      "_model_name": "FloatSliderModel",
      "_view_count": null,
      "_view_module": "@jupyter-widgets/controls",
      "_view_module_version": "1.5.0",
      "_view_name": "FloatSliderView",
      "continuous_update": true,
      "description": "B",
      "description_tooltip": null,
      "disabled": false,
      "layout": "IPY_MODEL_60b04925f67f408197692bfff95c9cbb",
      "max": 100,
      "min": 0,
      "orientation": "horizontal",
      "readout": true,
      "readout_format": ".2f",
      "step": 0.05,
      "style": "IPY_MODEL_769ad1ea849349bebd74958eea00c8e1",
      "value": 50
     }
    },
    "9574f109af9a4c3fa49dc6a9c03bbf01": {
     "model_module": "@jupyter-widgets/controls",
     "model_name": "FloatSliderModel",
     "state": {
      "_dom_classes": [],
      "_model_module": "@jupyter-widgets/controls",
      "_model_module_version": "1.5.0",
      "_model_name": "FloatSliderModel",
      "_view_count": null,
      "_view_module": "@jupyter-widgets/controls",
      "_view_module_version": "1.5.0",
      "_view_name": "FloatSliderView",
      "continuous_update": true,
      "description": "D",
      "description_tooltip": null,
      "disabled": false,
      "layout": "IPY_MODEL_ecbec2edc232475aae3af58ee9443cde",
      "max": 100,
      "min": 0,
      "orientation": "horizontal",
      "readout": true,
      "readout_format": ".2f",
      "step": 0.05,
      "style": "IPY_MODEL_2a2511595d7d42438ef7b03e912edc64",
      "value": 50
     }
    },
    "9f9130a6fd884bc79e9584fd28fd940d": {
     "model_module": "@jupyter-widgets/output",
     "model_name": "OutputModel",
     "state": {
      "_dom_classes": [],
      "_model_module": "@jupyter-widgets/output",
      "_model_module_version": "1.0.0",
      "_model_name": "OutputModel",
      "_view_count": null,
      "_view_module": "@jupyter-widgets/output",
      "_view_module_version": "1.0.0",
      "_view_name": "OutputView",
      "layout": "IPY_MODEL_b584be7a121e42bebf3dee3eb888137c",
      "msg_id": "",
      "outputs": [
       {
        "image/png": "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\n",
        "metadata": {
         "needs_background": "light",
         "tags": []
        },
        "output_type": "display_data",
        "text/plain": "<Figure size 432x288 with 1 Axes>"
       }
      ]
     }
    },
    "b279562619f44bdfb35bfec538d80c36": {
     "model_module": "@jupyter-widgets/controls",
     "model_name": "FloatSliderModel",
     "state": {
      "_dom_classes": [],
      "_model_module": "@jupyter-widgets/controls",
      "_model_module_version": "1.5.0",
      "_model_name": "FloatSliderModel",
      "_view_count": null,
      "_view_module": "@jupyter-widgets/controls",
      "_view_module_version": "1.5.0",
      "_view_name": "FloatSliderView",
      "continuous_update": true,
      "description": "G",
      "description_tooltip": null,
      "disabled": false,
      "layout": "IPY_MODEL_2c60e6dab9cd49a49b0bc0db4ea7b933",
      "max": 100,
      "min": 0,
      "orientation": "horizontal",
      "readout": true,
      "readout_format": ".2f",
      "step": 0.05,
      "style": "IPY_MODEL_be3022068e8841749a04cf33fe51e796",
      "value": 50
     }
    },
    "b584be7a121e42bebf3dee3eb888137c": {
     "model_module": "@jupyter-widgets/base",
     "model_name": "LayoutModel",
     "state": {
      "_model_module": "@jupyter-widgets/base",
      "_model_module_version": "1.2.0",
      "_model_name": "LayoutModel",
      "_view_count": null,
      "_view_module": "@jupyter-widgets/base",
      "_view_module_version": "1.2.0",
      "_view_name": "LayoutView",
      "align_content": null,
      "align_items": null,
      "align_self": null,
      "border": null,
      "bottom": null,
      "display": null,
      "flex": null,
      "flex_flow": null,
      "grid_area": null,
      "grid_auto_columns": null,
      "grid_auto_flow": null,
      "grid_auto_rows": null,
      "grid_column": null,
      "grid_gap": null,
      "grid_row": null,
      "grid_template_areas": null,
      "grid_template_columns": null,
      "grid_template_rows": null,
      "height": null,
      "justify_content": null,
      "justify_items": null,
      "left": null,
      "margin": null,
      "max_height": null,
      "max_width": null,
      "min_height": null,
      "min_width": null,
      "object_fit": null,
      "object_position": null,
      "order": null,
      "overflow": null,
      "overflow_x": null,
      "overflow_y": null,
      "padding": null,
      "right": null,
      "top": null,
      "visibility": null,
      "width": null
     }
    },
    "be3022068e8841749a04cf33fe51e796": {
     "model_module": "@jupyter-widgets/controls",
     "model_name": "SliderStyleModel",
     "state": {
      "_model_module": "@jupyter-widgets/controls",
      "_model_module_version": "1.5.0",
      "_model_name": "SliderStyleModel",
      "_view_count": null,
      "_view_module": "@jupyter-widgets/base",
      "_view_module_version": "1.2.0",
      "_view_name": "StyleView",
      "description_width": "",
      "handle_color": null
     }
    },
    "c6db115cf83844b7984cd28dbbc98c14": {
     "model_module": "@jupyter-widgets/controls",
     "model_name": "SliderStyleModel",
     "state": {
      "_model_module": "@jupyter-widgets/controls",
      "_model_module_version": "1.5.0",
      "_model_name": "SliderStyleModel",
      "_view_count": null,
      "_view_module": "@jupyter-widgets/base",
      "_view_module_version": "1.2.0",
      "_view_name": "StyleView",
      "description_width": "",
      "handle_color": null
     }
    },
    "cdecf463fce746f8b678f6f7c078e22d": {
     "model_module": "@jupyter-widgets/base",
     "model_name": "LayoutModel",
     "state": {
      "_model_module": "@jupyter-widgets/base",
      "_model_module_version": "1.2.0",
      "_model_name": "LayoutModel",
      "_view_count": null,
      "_view_module": "@jupyter-widgets/base",
      "_view_module_version": "1.2.0",
      "_view_name": "LayoutView",
      "align_content": null,
      "align_items": null,
      "align_self": null,
      "border": null,
      "bottom": null,
      "display": null,
      "flex": null,
      "flex_flow": null,
      "grid_area": null,
      "grid_auto_columns": null,
      "grid_auto_flow": null,
      "grid_auto_rows": null,
      "grid_column": null,
      "grid_gap": null,
      "grid_row": null,
      "grid_template_areas": null,
      "grid_template_columns": null,
      "grid_template_rows": null,
      "height": null,
      "justify_content": null,
      "justify_items": null,
      "left": null,
      "margin": null,
      "max_height": null,
      "max_width": null,
      "min_height": null,
      "min_width": null,
      "object_fit": null,
      "object_position": null,
      "order": null,
      "overflow": null,
      "overflow_x": null,
      "overflow_y": null,
      "padding": null,
      "right": null,
      "top": null,
      "visibility": null,
      "width": null
     }
    },
    "d9f5e7f5fad6420981284b8340eb5896": {
     "model_module": "@jupyter-widgets/controls",
     "model_name": "FloatSliderModel",
     "state": {
      "_dom_classes": [],
      "_model_module": "@jupyter-widgets/controls",
      "_model_module_version": "1.5.0",
      "_model_name": "FloatSliderModel",
      "_view_count": null,
      "_view_module": "@jupyter-widgets/controls",
      "_view_module_version": "1.5.0",
      "_view_name": "FloatSliderView",
      "continuous_update": true,
      "description": "E",
      "description_tooltip": null,
      "disabled": false,
      "layout": "IPY_MODEL_e2efd7176cdb47d78fd0560d3d9a5229",
      "max": 100,
      "min": 0,
      "orientation": "horizontal",
      "readout": true,
      "readout_format": ".2f",
      "step": 0.05,
      "style": "IPY_MODEL_21e6dc47f71f4308afc79b6bd3730831",
      "value": 50
     }
    },
    "e2efd7176cdb47d78fd0560d3d9a5229": {
     "model_module": "@jupyter-widgets/base",
     "model_name": "LayoutModel",
     "state": {
      "_model_module": "@jupyter-widgets/base",
      "_model_module_version": "1.2.0",
      "_model_name": "LayoutModel",
      "_view_count": null,
      "_view_module": "@jupyter-widgets/base",
      "_view_module_version": "1.2.0",
      "_view_name": "LayoutView",
      "align_content": null,
      "align_items": null,
      "align_self": null,
      "border": null,
      "bottom": null,
      "display": null,
      "flex": null,
      "flex_flow": null,
      "grid_area": null,
      "grid_auto_columns": null,
      "grid_auto_flow": null,
      "grid_auto_rows": null,
      "grid_column": null,
      "grid_gap": null,
      "grid_row": null,
      "grid_template_areas": null,
      "grid_template_columns": null,
      "grid_template_rows": null,
      "height": null,
      "justify_content": null,
      "justify_items": null,
      "left": null,
      "margin": null,
      "max_height": null,
      "max_width": null,
      "min_height": null,
      "min_width": null,
      "object_fit": null,
      "object_position": null,
      "order": null,
      "overflow": null,
      "overflow_x": null,
      "overflow_y": null,
      "padding": null,
      "right": null,
      "top": null,
      "visibility": null,
      "width": null
     }
    },
    "e71ee05aeb0447419837d542d550be7d": {
     "model_module": "@jupyter-widgets/controls",
     "model_name": "FloatSliderModel",
     "state": {
      "_dom_classes": [],
      "_model_module": "@jupyter-widgets/controls",
      "_model_module_version": "1.5.0",
      "_model_name": "FloatSliderModel",
      "_view_count": null,
      "_view_module": "@jupyter-widgets/controls",
      "_view_module_version": "1.5.0",
      "_view_name": "FloatSliderView",
      "continuous_update": true,
      "description": "H",
      "description_tooltip": null,
      "disabled": false,
      "layout": "IPY_MODEL_9091e91ecf1a4a4c84fc7f1299479e1f",
      "max": 100,
      "min": 0,
      "orientation": "horizontal",
      "readout": true,
      "readout_format": ".2f",
      "step": 0.05,
      "style": "IPY_MODEL_188b4bd68b7a4a0b82cbea2202cdfbca",
      "value": 50
     }
    },
    "ecbec2edc232475aae3af58ee9443cde": {
     "model_module": "@jupyter-widgets/base",
     "model_name": "LayoutModel",
     "state": {
      "_model_module": "@jupyter-widgets/base",
      "_model_module_version": "1.2.0",
      "_model_name": "LayoutModel",
      "_view_count": null,
      "_view_module": "@jupyter-widgets/base",
      "_view_module_version": "1.2.0",
      "_view_name": "LayoutView",
      "align_content": null,
      "align_items": null,
      "align_self": null,
      "border": null,
      "bottom": null,
      "display": null,
      "flex": null,
      "flex_flow": null,
      "grid_area": null,
      "grid_auto_columns": null,
      "grid_auto_flow": null,
      "grid_auto_rows": null,
      "grid_column": null,
      "grid_gap": null,
      "grid_row": null,
      "grid_template_areas": null,
      "grid_template_columns": null,
      "grid_template_rows": null,
      "height": null,
      "justify_content": null,
      "justify_items": null,
      "left": null,
      "margin": null,
      "max_height": null,
      "max_width": null,
      "min_height": null,
      "min_width": null,
      "object_fit": null,
      "object_position": null,
      "order": null,
      "overflow": null,
      "overflow_x": null,
      "overflow_y": null,
      "padding": null,
      "right": null,
      "top": null,
      "visibility": null,
      "width": null
     }
    },
    "fc210dd57aa54aeba2b6acaf5bf89c3f": {
     "model_module": "@jupyter-widgets/controls",
     "model_name": "SliderStyleModel",
     "state": {
      "_model_module": "@jupyter-widgets/controls",
      "_model_module_version": "1.5.0",
      "_model_name": "SliderStyleModel",
      "_view_count": null,
      "_view_module": "@jupyter-widgets/base",
      "_view_module_version": "1.2.0",
      "_view_name": "StyleView",
      "description_width": "",
      "handle_color": null
     }
    }
   }
  }
 },
 "nbformat": 4,
 "nbformat_minor": 1
}
